{
 "cells": [
  {
   "cell_type": "code",
   "execution_count": 1,
   "metadata": {},
   "outputs": [
    {
     "data": {
      "text/plain": [
       "True"
      ]
     },
     "execution_count": 1,
     "metadata": {},
     "output_type": "execute_result"
    }
   ],
   "source": [
    "import os\n",
    "import sqlite3\n",
    "import hashlib\n",
    "from typing import List, Tuple, Optional\n",
    "import jinja2\n",
    "from jinja2 import meta\n",
    "\n",
    "from dotenv import load_dotenv\n",
    "load_dotenv()"
   ]
  },
  {
   "cell_type": "markdown",
   "metadata": {},
   "source": [
    "# Database"
   ]
  },
  {
   "cell_type": "code",
   "execution_count": 2,
   "metadata": {},
   "outputs": [],
   "source": [
    "connection = sqlite3.connect(os.getenv('DB_PATH'))\n",
    "\n",
    "# Create a cursor object.\n",
    "cursor = connection.cursor()"
   ]
  },
  {
   "cell_type": "code",
   "execution_count": null,
   "metadata": {},
   "outputs": [],
   "source": [
    "cursor.execute(\"\"\"\n",
    "                CREATE TABLE IF NOT EXISTS projects (\n",
    "                    id TEXT PRIMARY KEY,\n",
    "                    name TEXT NOT NULL,\n",
    "                    description TEXT,\n",
    "                    created_at TEXT NOT NULL,\n",
    "                    updated_at TEXT NOT NULL\n",
    "                )\"\"\")\n"
   ]
  },
  {
   "cell_type": "code",
   "execution_count": null,
   "metadata": {},
   "outputs": [],
   "source": [
    "cursor.execute(\"\"\"\n",
    "                CREATE TABLE IF NOT EXISTS prompts (\n",
    "                    id TEXT PRIMARY KEY,\n",
    "                    prompt_group_id TEXT NOT NULL,\n",
    "                    project_id TEXT NOT NULL,\n",
    "                    parent_prompt_id TEXT,\n",
    "                    name TEXT NOT NULL,\n",
    "                    description TEXT,\n",
    "                    version INTEGER NOT NULL,\n",
    "                    prompt_template TEXT NOT NULL,\n",
    "                    input_variables TEXT,\n",
    "                    favourite INTEGER NOT NULL,\n",
    "                    notes TEXT,\n",
    "                    created_at TEXT NOT NULL,\n",
    "                    updated_at TEXT NOT NULL,\n",
    "                    FOREIGN KEY (project_id) REFERENCES projects (id)\n",
    "                )\"\"\")"
   ]
  },
  {
   "cell_type": "code",
   "execution_count": null,
   "metadata": {},
   "outputs": [],
   "source": [
    "cursor.execute(\"\"\"\n",
    "                CREATE TABLE IF NOT EXISTS temp_prompt_bucket (\n",
    "                    \n",
    "                )\"\"\")"
   ]
  },
  {
   "cell_type": "code",
   "execution_count": 11,
   "metadata": {},
   "outputs": [],
   "source": [
    "cursor.execute(\"\"\"\n",
    "UPDATE prompts\n",
    "SET\n",
    "    parent_prompt_id = \"30488bc93ea34cebb8ccee107d44b354b517fb6e40cde1146e2c1fa3024f62a6,2b57ee0ac06f1379a12140bb4545692ee047a21bcc30753f204daa59a3cb7396\"\n",
    "WHERE\n",
    "    id = \"74d3eaacbae7f2327f8b0ec902766086450336680d7e0f0fec407cb0b4812c97\"\n",
    "\"\"\")\n",
    "connection.commit()"
   ]
  },
  {
   "cell_type": "code",
   "execution_count": null,
   "metadata": {},
   "outputs": [],
   "source": [
    "# Add New Project\n",
    "def create_project(project_name:str, connection:sqlite3.Connection, cursor:sqlite3.Cursor, description=None):\n",
    "    # Check if project name already exists (case-insensitive)\n",
    "    cursor.execute(\"SELECT COUNT(*) FROM projects WHERE LOWER(name) = LOWER(?)\", (project_name,))\n",
    "    count = cursor.fetchone()[0]\n",
    "    if count > 0:\n",
    "        raise ValueError(\"Project name already exists\")\n",
    "\n",
    "    # Generate unique ID using hashlib's sha\n",
    "    project_id = hashlib.sha256(project_name.encode()).hexdigest()\n",
    "\n",
    "    # Insert new record into the project table\n",
    "    if description is None:\n",
    "        cursor.execute(\"INSERT INTO projects (id, name) VALUES (?, ?)\", (project_id, project_name))\n",
    "    else:\n",
    "        cursor.execute(\"INSERT INTO projects (id, name, description) VALUES (?, ?, ?)\", (project_id, project_name, description))\n",
    "    connection.commit()\n"
   ]
  },
  {
   "cell_type": "code",
   "execution_count": null,
   "metadata": {},
   "outputs": [],
   "source": [
    "def update_project_name(project_id: str, new_name: str, connection: sqlite3.Connection, cursor: sqlite3.Cursor):\n",
    "    # Check if project ID exists\n",
    "    cursor.execute(\"SELECT COUNT(*) FROM projects WHERE id = ?\", (project_id,))\n",
    "    count = cursor.fetchone()[0]\n",
    "    if count == 0:\n",
    "        raise ValueError(\"Project ID does not exist\")\n",
    "\n",
    "    # Check if new name already exists (case-insensitive)\n",
    "    cursor.execute(\"SELECT COUNT(*) FROM projects WHERE LOWER(name) = LOWER(?) AND id != ?\", (new_name, project_id))\n",
    "    count = cursor.fetchone()[0]\n",
    "    if count > 0:\n",
    "        raise ValueError(\"New name already exists\")\n",
    "\n",
    "    # Update the project name\n",
    "    cursor.execute(\"UPDATE projects SET name = ? WHERE id = ?\", (new_name, project_id))\n",
    "    connection.commit()\n"
   ]
  },
  {
   "cell_type": "code",
   "execution_count": null,
   "metadata": {},
   "outputs": [],
   "source": [
    "def get_project_id(project_name: str, connection: sqlite3.Connection, cursor: sqlite3.Cursor) -> str:\n",
    "    # Retrieve the project ID based on the project name (case-insensitive)\n",
    "    cursor.execute(\"SELECT id FROM projects WHERE LOWER(name) = LOWER(?)\", (project_name,))\n",
    "    result = cursor.fetchone()\n",
    "    if result is None:\n",
    "        raise ValueError(\"Project name not found\")\n",
    "    return result[0]\n"
   ]
  },
  {
   "cell_type": "code",
   "execution_count": null,
   "metadata": {},
   "outputs": [],
   "source": [
    "def get_all_projects(cursor: sqlite3.Cursor) -> List[Tuple[str, str, Optional[str]]]:\n",
    "    cursor.execute(\"SELECT * FROM projects\")\n",
    "    projects = cursor.fetchall()\n",
    "    return projects\n"
   ]
  },
  {
   "cell_type": "code",
   "execution_count": null,
   "metadata": {},
   "outputs": [],
   "source": [
    "get_all_projects(cursor)"
   ]
  },
  {
   "cell_type": "code",
   "execution_count": null,
   "metadata": {},
   "outputs": [],
   "source": [
    "create_project(\"Test Project\", connection, cursor, \"This is a test project\")"
   ]
  },
  {
   "cell_type": "code",
   "execution_count": null,
   "metadata": {},
   "outputs": [],
   "source": [
    "get_project_id(\"Test Project\", connection, cursor)"
   ]
  },
  {
   "cell_type": "code",
   "execution_count": null,
   "metadata": {},
   "outputs": [],
   "source": [
    "project_id = get_project_id(\"Test Project\", connection, cursor)\n",
    "update_project_name(project_id, \"Test Project 1\", connection, cursor)"
   ]
  },
  {
   "cell_type": "code",
   "execution_count": null,
   "metadata": {},
   "outputs": [],
   "source": [
    "def update_project_description(project_id: str, description: str, connection: sqlite3.Connection, cursor: sqlite3.Cursor):\n",
    "    # Check if project ID exists\n",
    "    cursor.execute(\"SELECT COUNT(*) FROM projects WHERE id = ?\", (project_id,))\n",
    "    count = cursor.fetchone()[0]\n",
    "    if count == 0:\n",
    "        raise ValueError(\"Project ID does not exist\")\n",
    "\n",
    "    # Update the project description\n",
    "    cursor.execute(\"UPDATE projects SET description = ? WHERE id = ?\", (description, project_id))\n",
    "    connection.commit()\n"
   ]
  },
  {
   "cell_type": "code",
   "execution_count": null,
   "metadata": {},
   "outputs": [],
   "source": [
    "update_project_description(project_id, \"This is a test project 1\", connection, cursor)"
   ]
  },
  {
   "cell_type": "code",
   "execution_count": null,
   "metadata": {},
   "outputs": [],
   "source": [
    "def add_prompt_template(\n",
    "    project_id: str,\n",
    "    name: str,\n",
    "    version: int,\n",
    "    prompt_template: str,\n",
    "    input_variables: str,\n",
    "    favourite: bool,\n",
    "    notes: str,\n",
    "    connection: sqlite3.Connection,\n",
    "    cursor: sqlite3.Cursor\n",
    "):\n",
    "    # Check if project ID exists\n",
    "    cursor.execute(\"SELECT COUNT(*) FROM projects WHERE id = ?\", (project_id,))\n",
    "    count = cursor.fetchone()[0]\n",
    "    if count == 0:\n",
    "        raise ValueError(\"Project ID does not exist\")\n",
    "\n",
    "    # Check if prompt name already exists within the project (case-insensitive)\n",
    "    cursor.execute(\"SELECT COUNT(*) FROM prompts WHERE LOWER(name) = LOWER(?) AND project_id = ?\", (name, project_id))\n",
    "    count = cursor.fetchone()[0]\n",
    "    if count > 0:\n",
    "        raise ValueError(\"Prompt name already exists within the project\")\n",
    "\n",
    "    # Generate unique ID using hashlib's sha\n",
    "    prompt_id = hashlib.sha256((project_id + name + str(version)).encode()).hexdigest()\n",
    "\n",
    "    # Insert new record into the prompts table\n",
    "    cursor.execute(\"\"\"\n",
    "                    INSERT INTO prompts (id, project_id, name, version, prompt_template, input_variables, favourite, notes)\n",
    "                    VALUES (?, ?, ?, ?, ?, ?, ?, ?)\n",
    "                    \"\"\", (prompt_id, project_id, name, version, prompt_template, input_variables, int(favourite), notes))\n",
    "    connection.commit()\n"
   ]
  },
  {
   "cell_type": "code",
   "execution_count": null,
   "metadata": {},
   "outputs": [],
   "source": [
    "prompt = \"\"\"Generate {{k}} questions that test reader comprehension of the following text.\n",
    "\n",
    "Text: {{text}}\n",
    "\n",
    "Questions:\"\"\"\n",
    "add_prompt_template(project_id, \"Test Prompt\", 1, prompt, \"k, text\", False, \"This is a test note\", connection, cursor)"
   ]
  },
  {
   "cell_type": "code",
   "execution_count": 3,
   "metadata": {},
   "outputs": [],
   "source": [
    "def update_prompt_template(\n",
    "    prompt_id: str,\n",
    "    new_prompt_template: str,\n",
    "    new_input_variables: str,\n",
    "    new_favourite: bool,\n",
    "    new_notes: str,\n",
    "    connection: sqlite3.Connection,\n",
    "    cursor: sqlite3.Cursor\n",
    "    ):\n",
    "    # Check if prompt ID exists\n",
    "    cursor.execute(\"SELECT COUNT(*) FROM prompts WHERE id = ?\", (prompt_id,))\n",
    "    count = cursor.fetchone()[0]\n",
    "    if count == 0:\n",
    "        raise ValueError(\"Prompt ID does not exist\")\n",
    "\n",
    "    # Update the prompt template, input variables, favourite, and notes\n",
    "    cursor.execute(\"\"\"\n",
    "                    UPDATE prompts\n",
    "                    SET prompt_template = ?, input_variables = ?, favourite = ?, notes = ?\n",
    "                    WHERE id = ?\n",
    "                    \"\"\", (new_prompt_template, new_input_variables, int(new_favourite), new_notes, prompt_id))\n",
    "    connection.commit()\n"
   ]
  },
  {
   "cell_type": "code",
   "execution_count": 3,
   "metadata": {},
   "outputs": [],
   "source": []
  },
  {
   "cell_type": "code",
   "execution_count": null,
   "metadata": {},
   "outputs": [],
   "source": [
    "def get_prompt_id_by_name_and_version(project_id: str, name: str, version: int, connection: sqlite3.Connection, cursor: sqlite3.Cursor) -> str:\n",
    "    # Retrieve the prompt ID based on the project ID, name, and version\n",
    "    cursor.execute(\"SELECT id FROM prompts WHERE project_id = ? AND LOWER(name) = LOWER(?) AND version = ?\", (project_id, name, version))\n",
    "    result = cursor.fetchone()\n",
    "    if result is None:\n",
    "        raise ValueError(\"Prompt not found\")\n",
    "    return result[0]"
   ]
  },
  {
   "cell_type": "code",
   "execution_count": null,
   "metadata": {},
   "outputs": [],
   "source": [
    "def get_all_prompts(connection: sqlite3.Connection, cursor: sqlite3.Cursor, project_id: Optional[str]=None) -> List[Tuple[str, str, Optional[str]]]:\n",
    "    # Retrieve all prompts for the given project ID\n",
    "    if project_id:\n",
    "        cursor.execute(\"SELECT * FROM prompts WHERE project_id = ?\", (project_id,))\n",
    "    else:\n",
    "        cursor.execute(\"SELECT * FROM prompts\")\n",
    "    prompts = cursor.fetchall()\n",
    "    return prompts\n"
   ]
  },
  {
   "cell_type": "code",
   "execution_count": null,
   "metadata": {},
   "outputs": [],
   "source": [
    "project_id = get_project_id(\"Test Project\", connection, cursor)"
   ]
  },
  {
   "cell_type": "code",
   "execution_count": null,
   "metadata": {},
   "outputs": [],
   "source": [
    "get_all_prompts(project_id, connection, cursor)"
   ]
  },
  {
   "cell_type": "code",
   "execution_count": null,
   "metadata": {},
   "outputs": [],
   "source": [
    "get_prompt_id_by_name_and_version(project_id, \"Test Prompt\", 1, connection, cursor)\n"
   ]
  },
  {
   "cell_type": "code",
   "execution_count": null,
   "metadata": {},
   "outputs": [],
   "source": [
    "prompt_id = get_prompt_id_by_name_and_version(project_id, \"Test Prompt\", 1, connection, cursor)\n",
    "prompt = \"\"\"Generate {{ k }} questions that test reader comprehension of the following text.\n",
    "\n",
    "Text: {{ text }}\n",
    "\n",
    "Questions:\"\"\"\n",
    "\n",
    "update_prompt_template(prompt_id, prompt, \"k, text\", True, \"This is a test note 1\", connection, cursor)"
   ]
  },
  {
   "cell_type": "code",
   "execution_count": null,
   "metadata": {},
   "outputs": [],
   "source": [
    "def delete_prompt(id:str, connection:sqlite3.Connection, cursor:sqlite3.Cursor):\n",
    "    cursor.execute(\"DELETE FROM prompts WHERE id = ?\", (id,))\n",
    "    connection.commit()"
   ]
  },
  {
   "cell_type": "code",
   "execution_count": null,
   "metadata": {},
   "outputs": [],
   "source": [
    "delete_prompt(\"77bf29bb34442ac8ada6c9c07e760b500004ac7e43cf8642ff731f54a35a900f\", connection, cursor)"
   ]
  },
  {
   "cell_type": "markdown",
   "metadata": {},
   "source": [
    "# Templates"
   ]
  },
  {
   "cell_type": "code",
   "execution_count": 25,
   "metadata": {},
   "outputs": [
    {
     "data": {
      "text/plain": [
       "'Here is a template. And has input variables:  and some more text - '"
      ]
     },
     "execution_count": 25,
     "metadata": {},
     "output_type": "execute_result"
    }
   ],
   "source": [
    "env = jinja2.Environment()\n",
    "    \n",
    "# Get the Prompt Template\n",
    "prompt_template = env.from_string(\"Here is a template. And has input variables: {{input_variables}} and some more text - {{text}}\")\n",
    "prompt_template.render()"
   ]
  },
  {
   "cell_type": "code",
   "execution_count": 26,
   "metadata": {},
   "outputs": [
    {
     "data": {
      "text/plain": [
       "{'input_variables', 'text'}"
      ]
     },
     "execution_count": 26,
     "metadata": {},
     "output_type": "execute_result"
    }
   ],
   "source": [
    "# Find variable names\n",
    "meta.find_undeclared_variables(env.parse(\"Here is a template. And has input variables: {{input_variables}} and some more text - {{text}}\"))"
   ]
  },
  {
   "cell_type": "markdown",
   "metadata": {},
   "source": [
    "# Next Section Here"
   ]
  },
  {
   "cell_type": "code",
   "execution_count": null,
   "metadata": {},
   "outputs": [],
   "source": []
  }
 ],
 "metadata": {
  "kernelspec": {
   "display_name": "GenAI",
   "language": "python",
   "name": "python3"
  },
  "language_info": {
   "codemirror_mode": {
    "name": "ipython",
    "version": 3
   },
   "file_extension": ".py",
   "mimetype": "text/x-python",
   "name": "python",
   "nbconvert_exporter": "python",
   "pygments_lexer": "ipython3",
   "version": "3.11.8"
  }
 },
 "nbformat": 4,
 "nbformat_minor": 2
}
