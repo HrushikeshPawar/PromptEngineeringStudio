{
 "cells": [
  {
   "cell_type": "code",
   "execution_count": 1,
   "metadata": {},
   "outputs": [
    {
     "data": {
      "text/plain": [
       "True"
      ]
     },
     "execution_count": 1,
     "metadata": {},
     "output_type": "execute_result"
    }
   ],
   "source": [
    "import os\n",
    "import sqlite3\n",
    "import hashlib\n",
    "from typing import List, Tuple, Optional\n",
    "\n",
    "from dotenv import load_dotenv\n",
    "load_dotenv()"
   ]
  },
  {
   "cell_type": "markdown",
   "metadata": {},
   "source": [
    "# Database"
   ]
  },
  {
   "cell_type": "code",
   "execution_count": 2,
   "metadata": {},
   "outputs": [],
   "source": [
    "connection = sqlite3.connect(os.getenv('DB_PATH'))\n",
    "\n",
    "# Create a cursor object.\n",
    "cursor = connection.cursor()"
   ]
  },
  {
   "cell_type": "code",
   "execution_count": 3,
   "metadata": {},
   "outputs": [
    {
     "data": {
      "text/plain": [
       "<sqlite3.Cursor at 0x2896de3f6c0>"
      ]
     },
     "execution_count": 3,
     "metadata": {},
     "output_type": "execute_result"
    }
   ],
   "source": [
    "cursor.execute(\"\"\"\n",
    "                CREATE TABLE IF NOT EXISTS projects (\n",
    "                    id TEXT PRIMARY KEY,\n",
    "                    name TEXT NOT NULL,\n",
    "                    description TEXT,\n",
    "                    created_at TEXT NOT NULL,\n",
    "                    updated_at TEXT NOT NULL\n",
    "                )\"\"\")\n"
   ]
  },
  {
   "cell_type": "code",
   "execution_count": 4,
   "metadata": {},
   "outputs": [
    {
     "data": {
      "text/plain": [
       "<sqlite3.Cursor at 0x2896de3f6c0>"
      ]
     },
     "execution_count": 4,
     "metadata": {},
     "output_type": "execute_result"
    }
   ],
   "source": [
    "cursor.execute(\"\"\"\n",
    "                CREATE TABLE IF NOT EXISTS prompts (\n",
    "                    id TEXT PRIMARY KEY,\n",
    "                    prompt_group_id TEXT NOT NULL,\n",
    "                    project_id TEXT NOT NULL,\n",
    "                    parent_prompt_id TEXT,\n",
    "                    name TEXT NOT NULL,\n",
    "                    description TEXT,\n",
    "                    version INTEGER NOT NULL,\n",
    "                    prompt_template TEXT NOT NULL,\n",
    "                    input_variables TEXT,\n",
    "                    favourite INTEGER NOT NULL,\n",
    "                    notes TEXT,\n",
    "                    created_at TEXT NOT NULL,\n",
    "                    updated_at TEXT NOT NULL,\n",
    "                    FOREIGN KEY (project_id) REFERENCES projects (id)\n",
    "                )\"\"\")"
   ]
  },
  {
   "cell_type": "code",
   "execution_count": 5,
   "metadata": {},
   "outputs": [],
   "source": [
    "# Add New Project\n",
    "def create_project(project_name:str, connection:sqlite3.Connection, cursor:sqlite3.Cursor, description=None):\n",
    "    # Check if project name already exists (case-insensitive)\n",
    "    cursor.execute(\"SELECT COUNT(*) FROM projects WHERE LOWER(name) = LOWER(?)\", (project_name,))\n",
    "    count = cursor.fetchone()[0]\n",
    "    if count > 0:\n",
    "        raise ValueError(\"Project name already exists\")\n",
    "\n",
    "    # Generate unique ID using hashlib's sha\n",
    "    project_id = hashlib.sha256(project_name.encode()).hexdigest()\n",
    "\n",
    "    # Insert new record into the project table\n",
    "    if description is None:\n",
    "        cursor.execute(\"INSERT INTO projects (id, name) VALUES (?, ?)\", (project_id, project_name))\n",
    "    else:\n",
    "        cursor.execute(\"INSERT INTO projects (id, name, description) VALUES (?, ?, ?)\", (project_id, project_name, description))\n",
    "    connection.commit()\n"
   ]
  },
  {
   "cell_type": "code",
   "execution_count": 6,
   "metadata": {},
   "outputs": [],
   "source": [
    "def update_project_name(project_id: str, new_name: str, connection: sqlite3.Connection, cursor: sqlite3.Cursor):\n",
    "    # Check if project ID exists\n",
    "    cursor.execute(\"SELECT COUNT(*) FROM projects WHERE id = ?\", (project_id,))\n",
    "    count = cursor.fetchone()[0]\n",
    "    if count == 0:\n",
    "        raise ValueError(\"Project ID does not exist\")\n",
    "\n",
    "    # Check if new name already exists (case-insensitive)\n",
    "    cursor.execute(\"SELECT COUNT(*) FROM projects WHERE LOWER(name) = LOWER(?) AND id != ?\", (new_name, project_id))\n",
    "    count = cursor.fetchone()[0]\n",
    "    if count > 0:\n",
    "        raise ValueError(\"New name already exists\")\n",
    "\n",
    "    # Update the project name\n",
    "    cursor.execute(\"UPDATE projects SET name = ? WHERE id = ?\", (new_name, project_id))\n",
    "    connection.commit()\n"
   ]
  },
  {
   "cell_type": "code",
   "execution_count": 7,
   "metadata": {},
   "outputs": [],
   "source": [
    "def get_project_id(project_name: str, connection: sqlite3.Connection, cursor: sqlite3.Cursor) -> str:\n",
    "    # Retrieve the project ID based on the project name (case-insensitive)\n",
    "    cursor.execute(\"SELECT id FROM projects WHERE LOWER(name) = LOWER(?)\", (project_name,))\n",
    "    result = cursor.fetchone()\n",
    "    if result is None:\n",
    "        raise ValueError(\"Project name not found\")\n",
    "    return result[0]\n"
   ]
  },
  {
   "cell_type": "code",
   "execution_count": 10,
   "metadata": {},
   "outputs": [],
   "source": [
    "def get_all_projects(cursor: sqlite3.Cursor) -> List[Tuple[str, str, Optional[str]]]:\n",
    "    cursor.execute(\"SELECT * FROM projects\")\n",
    "    projects = cursor.fetchall()\n",
    "    return projects\n"
   ]
  },
  {
   "cell_type": "code",
   "execution_count": 11,
   "metadata": {},
   "outputs": [
    {
     "data": {
      "text/plain": [
       "[('4cfe56d89e42d2234648994a7db4ebc6818aca963456a6c75f29d038d31a1b42',\n",
       "  'Test Project',\n",
       "  '')]"
      ]
     },
     "execution_count": 11,
     "metadata": {},
     "output_type": "execute_result"
    }
   ],
   "source": [
    "get_all_projects(cursor)"
   ]
  },
  {
   "cell_type": "code",
   "execution_count": 8,
   "metadata": {},
   "outputs": [
    {
     "ename": "ValueError",
     "evalue": "Project name already exists",
     "output_type": "error",
     "traceback": [
      "\u001b[0;31m---------------------------------------------------------------------------\u001b[0m",
      "\u001b[0;31mValueError\u001b[0m                                Traceback (most recent call last)",
      "Cell \u001b[0;32mIn[8], line 1\u001b[0m\n\u001b[0;32m----> 1\u001b[0m \u001b[43mcreate_project\u001b[49m\u001b[43m(\u001b[49m\u001b[38;5;124;43m\"\u001b[39;49m\u001b[38;5;124;43mTest Project\u001b[39;49m\u001b[38;5;124;43m\"\u001b[39;49m\u001b[43m,\u001b[49m\u001b[43m \u001b[49m\u001b[43mconnection\u001b[49m\u001b[43m,\u001b[49m\u001b[43m \u001b[49m\u001b[43mcursor\u001b[49m\u001b[43m,\u001b[49m\u001b[43m \u001b[49m\u001b[38;5;124;43m\"\u001b[39;49m\u001b[38;5;124;43mThis is a test project\u001b[39;49m\u001b[38;5;124;43m\"\u001b[39;49m\u001b[43m)\u001b[49m\n",
      "Cell \u001b[0;32mIn[5], line 7\u001b[0m, in \u001b[0;36mcreate_project\u001b[0;34m(project_name, connection, cursor, description)\u001b[0m\n\u001b[1;32m      5\u001b[0m count \u001b[38;5;241m=\u001b[39m cursor\u001b[38;5;241m.\u001b[39mfetchone()[\u001b[38;5;241m0\u001b[39m]\n\u001b[1;32m      6\u001b[0m \u001b[38;5;28;01mif\u001b[39;00m count \u001b[38;5;241m>\u001b[39m \u001b[38;5;241m0\u001b[39m:\n\u001b[0;32m----> 7\u001b[0m     \u001b[38;5;28;01mraise\u001b[39;00m \u001b[38;5;167;01mValueError\u001b[39;00m(\u001b[38;5;124m\"\u001b[39m\u001b[38;5;124mProject name already exists\u001b[39m\u001b[38;5;124m\"\u001b[39m)\n\u001b[1;32m      9\u001b[0m \u001b[38;5;66;03m# Generate unique ID using hashlib's sha\u001b[39;00m\n\u001b[1;32m     10\u001b[0m project_id \u001b[38;5;241m=\u001b[39m hashlib\u001b[38;5;241m.\u001b[39msha256(project_name\u001b[38;5;241m.\u001b[39mencode())\u001b[38;5;241m.\u001b[39mhexdigest()\n",
      "\u001b[0;31mValueError\u001b[0m: Project name already exists"
     ]
    }
   ],
   "source": [
    "create_project(\"Test Project\", connection, cursor, \"This is a test project\")"
   ]
  },
  {
   "cell_type": "code",
   "execution_count": 47,
   "metadata": {},
   "outputs": [
    {
     "data": {
      "text/plain": [
       "'4cfe56d89e42d2234648994a7db4ebc6818aca963456a6c75f29d038d31a1b42'"
      ]
     },
     "execution_count": 47,
     "metadata": {},
     "output_type": "execute_result"
    }
   ],
   "source": [
    "get_project_id(\"Test Project\", connection, cursor)"
   ]
  },
  {
   "cell_type": "code",
   "execution_count": 48,
   "metadata": {},
   "outputs": [],
   "source": [
    "project_id = get_project_id(\"Test Project\", connection, cursor)\n",
    "update_project_name(project_id, \"Test Project 1\", connection, cursor)"
   ]
  },
  {
   "cell_type": "code",
   "execution_count": 49,
   "metadata": {},
   "outputs": [],
   "source": [
    "def update_project_description(project_id: str, description: str, connection: sqlite3.Connection, cursor: sqlite3.Cursor):\n",
    "    # Check if project ID exists\n",
    "    cursor.execute(\"SELECT COUNT(*) FROM projects WHERE id = ?\", (project_id,))\n",
    "    count = cursor.fetchone()[0]\n",
    "    if count == 0:\n",
    "        raise ValueError(\"Project ID does not exist\")\n",
    "\n",
    "    # Update the project description\n",
    "    cursor.execute(\"UPDATE projects SET description = ? WHERE id = ?\", (description, project_id))\n",
    "    connection.commit()\n"
   ]
  },
  {
   "cell_type": "code",
   "execution_count": 50,
   "metadata": {},
   "outputs": [],
   "source": [
    "update_project_description(project_id, \"This is a test project 1\", connection, cursor)"
   ]
  },
  {
   "cell_type": "code",
   "execution_count": 53,
   "metadata": {},
   "outputs": [],
   "source": [
    "def add_prompt_template(\n",
    "    project_id: str,\n",
    "    name: str,\n",
    "    version: int,\n",
    "    prompt_template: str,\n",
    "    input_variables: str,\n",
    "    favourite: bool,\n",
    "    notes: str,\n",
    "    connection: sqlite3.Connection,\n",
    "    cursor: sqlite3.Cursor\n",
    "):\n",
    "    # Check if project ID exists\n",
    "    cursor.execute(\"SELECT COUNT(*) FROM projects WHERE id = ?\", (project_id,))\n",
    "    count = cursor.fetchone()[0]\n",
    "    if count == 0:\n",
    "        raise ValueError(\"Project ID does not exist\")\n",
    "\n",
    "    # Check if prompt name already exists within the project (case-insensitive)\n",
    "    cursor.execute(\"SELECT COUNT(*) FROM prompts WHERE LOWER(name) = LOWER(?) AND project_id = ?\", (name, project_id))\n",
    "    count = cursor.fetchone()[0]\n",
    "    if count > 0:\n",
    "        raise ValueError(\"Prompt name already exists within the project\")\n",
    "\n",
    "    # Generate unique ID using hashlib's sha\n",
    "    prompt_id = hashlib.sha256((project_id + name + str(version)).encode()).hexdigest()\n",
    "\n",
    "    # Insert new record into the prompts table\n",
    "    cursor.execute(\"\"\"\n",
    "                    INSERT INTO prompts (id, project_id, name, version, prompt_template, input_variables, favourite, notes)\n",
    "                    VALUES (?, ?, ?, ?, ?, ?, ?, ?)\n",
    "                    \"\"\", (prompt_id, project_id, name, version, prompt_template, input_variables, int(favourite), notes))\n",
    "    connection.commit()\n"
   ]
  },
  {
   "cell_type": "code",
   "execution_count": 54,
   "metadata": {},
   "outputs": [],
   "source": [
    "prompt = \"\"\"Generate {{k}} questions that test reader comprehension of the following text.\n",
    "\n",
    "Text: {{text}}\n",
    "\n",
    "Questions:\"\"\"\n",
    "add_prompt_template(project_id, \"Test Prompt\", 1, prompt, \"k, text\", False, \"This is a test note\", connection, cursor)"
   ]
  },
  {
   "cell_type": "code",
   "execution_count": 56,
   "metadata": {},
   "outputs": [],
   "source": [
    "def update_prompt_template(\n",
    "    prompt_id: str,\n",
    "    new_prompt_template: str,\n",
    "    new_input_variables: str,\n",
    "    new_favourite: bool,\n",
    "    new_notes: str,\n",
    "    connection: sqlite3.Connection,\n",
    "    cursor: sqlite3.Cursor\n",
    "    ):\n",
    "    # Check if prompt ID exists\n",
    "    cursor.execute(\"SELECT COUNT(*) FROM prompts WHERE id = ?\", (prompt_id,))\n",
    "    count = cursor.fetchone()[0]\n",
    "    if count == 0:\n",
    "        raise ValueError(\"Prompt ID does not exist\")\n",
    "\n",
    "    # Update the prompt template, input variables, favourite, and notes\n",
    "    cursor.execute(\"\"\"\n",
    "                    UPDATE prompts\n",
    "                    SET prompt_template = ?, input_variables = ?, favourite = ?, notes = ?\n",
    "                    WHERE id = ?\n",
    "                    \"\"\", (new_prompt_template, new_input_variables, int(new_favourite), new_notes, prompt_id))\n",
    "    connection.commit()\n"
   ]
  },
  {
   "cell_type": "code",
   "execution_count": 57,
   "metadata": {},
   "outputs": [],
   "source": [
    "def get_prompt_id_by_name_and_version(project_id: str, name: str, version: int, connection: sqlite3.Connection, cursor: sqlite3.Cursor) -> str:\n",
    "    # Retrieve the prompt ID based on the project ID, name, and version\n",
    "    cursor.execute(\"SELECT id FROM prompts WHERE project_id = ? AND LOWER(name) = LOWER(?) AND version = ?\", (project_id, name, version))\n",
    "    result = cursor.fetchone()\n",
    "    if result is None:\n",
    "        raise ValueError(\"Prompt not found\")\n",
    "    return result[0]"
   ]
  },
  {
   "cell_type": "code",
   "execution_count": 12,
   "metadata": {},
   "outputs": [],
   "source": [
    "def get_all_prompts(connection: sqlite3.Connection, cursor: sqlite3.Cursor, project_id: Optional[str]=None) -> List[Tuple[str, str, Optional[str]]]:\n",
    "    # Retrieve all prompts for the given project ID\n",
    "    if project_id:\n",
    "        cursor.execute(\"SELECT * FROM prompts WHERE project_id = ?\", (project_id,))\n",
    "    else:\n",
    "        cursor.execute(\"SELECT * FROM prompts\")\n",
    "    prompts = cursor.fetchall()\n",
    "    return prompts\n"
   ]
  },
  {
   "cell_type": "code",
   "execution_count": 14,
   "metadata": {},
   "outputs": [],
   "source": [
    "project_id = get_project_id(\"Test Project\", connection, cursor)"
   ]
  },
  {
   "cell_type": "code",
   "execution_count": 15,
   "metadata": {},
   "outputs": [
    {
     "data": {
      "text/plain": [
       "[]"
      ]
     },
     "execution_count": 15,
     "metadata": {},
     "output_type": "execute_result"
    }
   ],
   "source": [
    "get_all_prompts(project_id, connection, cursor)"
   ]
  },
  {
   "cell_type": "code",
   "execution_count": 58,
   "metadata": {},
   "outputs": [
    {
     "data": {
      "text/plain": [
       "'745f54c049ebd50014ef71bab82053d37123cbaeaf6c3a76f1fa680a2997408b'"
      ]
     },
     "execution_count": 58,
     "metadata": {},
     "output_type": "execute_result"
    }
   ],
   "source": [
    "get_prompt_id_by_name_and_version(project_id, \"Test Prompt\", 1, connection, cursor)\n"
   ]
  },
  {
   "cell_type": "code",
   "execution_count": 59,
   "metadata": {},
   "outputs": [],
   "source": [
    "prompt_id = get_prompt_id_by_name_and_version(project_id, \"Test Prompt\", 1, connection, cursor)\n",
    "prompt = \"\"\"Generate {{ k }} questions that test reader comprehension of the following text.\n",
    "\n",
    "Text: {{ text }}\n",
    "\n",
    "Questions:\"\"\"\n",
    "\n",
    "update_prompt_template(prompt_id, prompt, \"k, text\", True, \"This is a test note 1\", connection, cursor)"
   ]
  },
  {
   "cell_type": "code",
   "execution_count": 3,
   "metadata": {},
   "outputs": [],
   "source": [
    "def delete_prompt(id:str, connection:sqlite3.Connection, cursor:sqlite3.Cursor):\n",
    "    cursor.execute(\"DELETE FROM prompts WHERE id = ?\", (id,))\n",
    "    connection.commit()"
   ]
  },
  {
   "cell_type": "code",
   "execution_count": 4,
   "metadata": {},
   "outputs": [],
   "source": [
    "delete_prompt(\"77bf29bb34442ac8ada6c9c07e760b500004ac7e43cf8642ff731f54a35a900f\", connection, cursor)"
   ]
  },
  {
   "cell_type": "code",
   "execution_count": null,
   "metadata": {},
   "outputs": [],
   "source": []
  }
 ],
 "metadata": {
  "kernelspec": {
   "display_name": "GenAI",
   "language": "python",
   "name": "python3"
  },
  "language_info": {
   "codemirror_mode": {
    "name": "ipython",
    "version": 3
   },
   "file_extension": ".py",
   "mimetype": "text/x-python",
   "name": "python",
   "nbconvert_exporter": "python",
   "pygments_lexer": "ipython3",
   "version": "3.11.8"
  }
 },
 "nbformat": 4,
 "nbformat_minor": 2
}
